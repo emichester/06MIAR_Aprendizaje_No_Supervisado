{
  "nbformat": 4,
  "nbformat_minor": 0,
  "metadata": {
    "colab": {
      "provenance": [],
      "authorship_tag": "ABX9TyOAXDalc1CzSseZ6wEEssWj",
      "include_colab_link": true
    },
    "kernelspec": {
      "name": "python3",
      "display_name": "Python 3"
    },
    "language_info": {
      "name": "python"
    }
  },
  "cells": [
    {
      "cell_type": "markdown",
      "metadata": {
        "id": "view-in-github",
        "colab_type": "text"
      },
      "source": [
        "<a href=\"https://colab.research.google.com/github/emichester/06MIAR_Aprendizaje_No_Supervisado/blob/main/MyTests/Spotify_millsongdata_clustering.ipynb\" target=\"_parent\"><img src=\"https://colab.research.google.com/assets/colab-badge.svg\" alt=\"Open In Colab\"/></a>"
      ]
    },
    {
      "cell_type": "code",
      "source": [
        "# Nos aseguramos que tenemos instalada la última versión de la API de Kaggle en Colab\n",
        "!pip install --upgrade --force-reinstall --no-deps kaggle"
      ],
      "metadata": {
        "colab": {
          "base_uri": "https://localhost:8080/"
        },
        "id": "OY915Ec30oeY",
        "outputId": "a01b2e28-4ad0-45e3-d6c9-8069af4ecae9"
      },
      "execution_count": 1,
      "outputs": [
        {
          "output_type": "stream",
          "name": "stdout",
          "text": [
            "Collecting kaggle\n",
            "  Downloading kaggle-1.5.16.tar.gz (83 kB)\n",
            "\u001b[?25l     \u001b[90m━━━━━━━━━━━━━━━━━━━━━━━━━━━━━━━━━━━━━━━━\u001b[0m \u001b[32m0.0/83.6 kB\u001b[0m \u001b[31m?\u001b[0m eta \u001b[36m-:--:--\u001b[0m\r\u001b[2K     \u001b[90m━━━━━━━━━━━━━━━━━━━━━━━━━━━━━━━━━━━━━━━━\u001b[0m \u001b[32m83.6/83.6 kB\u001b[0m \u001b[31m2.9 MB/s\u001b[0m eta \u001b[36m0:00:00\u001b[0m\n",
            "\u001b[?25h  Preparing metadata (setup.py) ... \u001b[?25l\u001b[?25hdone\n",
            "Building wheels for collected packages: kaggle\n",
            "  Building wheel for kaggle (setup.py) ... \u001b[?25l\u001b[?25hdone\n",
            "  Created wheel for kaggle: filename=kaggle-1.5.16-py3-none-any.whl size=110683 sha256=ebce88e5fc9705be198e373e6129f85a900816369396b2d0ffa6b33c110cb5c2\n",
            "  Stored in directory: /root/.cache/pip/wheels/43/4b/fb/736478af5e8004810081a06259f9aa2f7c3329fc5d03c2c412\n",
            "Successfully built kaggle\n",
            "Installing collected packages: kaggle\n",
            "  Attempting uninstall: kaggle\n",
            "    Found existing installation: kaggle 1.5.16\n",
            "    Uninstalling kaggle-1.5.16:\n",
            "      Successfully uninstalled kaggle-1.5.16\n",
            "Successfully installed kaggle-1.5.16\n"
          ]
        }
      ]
    },
    {
      "cell_type": "markdown",
      "source": [
        "Subir kaggle.json"
      ],
      "metadata": {
        "id": "3GEtXMSk0-Wo"
      }
    },
    {
      "cell_type": "code",
      "source": [
        "# Creamos un directorio en el que copiamos el fichero kaggle.json\n",
        "!mkdir ~/.kaggle\n",
        "!cp kaggle.json ~/.kaggle/\n",
        "!chmod 600 ~/.kaggle/kaggle.json"
      ],
      "metadata": {
        "id": "w2XA5H1d08Mo"
      },
      "execution_count": 3,
      "outputs": []
    },
    {
      "cell_type": "code",
      "source": [
        "# Ya podemos listar los datasets disponibles en kaggle para su descarga\n",
        "!kaggle datasets list"
      ],
      "metadata": {
        "colab": {
          "base_uri": "https://localhost:8080/"
        },
        "id": "dREx9eS_1DS4",
        "outputId": "b3233406-31a8-44ed-9eb3-499dc3cebd3b"
      },
      "execution_count": 4,
      "outputs": [
        {
          "output_type": "stream",
          "name": "stdout",
          "text": [
            "ref                                                          title                                              size  lastUpdated          downloadCount  voteCount  usabilityRating  \n",
            "-----------------------------------------------------------  ------------------------------------------------  -----  -------------------  -------------  ---------  ---------------  \n",
            "nelgiriyewithana/top-spotify-songs-2023                      Most Streamed Spotify Songs 2023                   47KB  2023-08-26 11:04:57          27149        819  1.0              \n",
            "iamsouravbanerjee/customer-shopping-trends-dataset           Customer Shopping Trends Dataset                  146KB  2023-10-05 06:45:37           2382         54  1.0              \n",
            "nelgiriyewithana/credit-card-fraud-detection-dataset-2023    Credit Card Fraud Detection Dataset 2023          143MB  2023-09-18 10:00:19           4212        138  1.0              \n",
            "fortuneuwha/world-instant-noodles-consumption-2022           World Instant Noodles Consumption 2022              2KB  2023-10-02 17:06:28           1126         31  1.0              \n",
            "nelgiriyewithana/billionaires-statistics-dataset             Billionaires Statistics Dataset (2023)            139KB  2023-09-29 13:39:28           1920         61  1.0              \n",
            "joebeachcapital/students-performance                         Students Performance                                2KB  2023-08-31 00:50:11           9697        219  1.0              \n",
            "tawfikelmetwally/employee-dataset                            Employee dataset                                   19KB  2023-09-06 18:15:55           7060        120  0.9411765        \n",
            "joebeachcapital/seoul-bike-sharing                           Seoul Bike Sharing Demand                         126KB  2023-10-03 01:48:46            618         27  1.0              \n",
            "aemyjutt/laptop-price-analysis                               Laptop_Price_Analysis                              21KB  2023-10-02 07:46:46           1098         32  1.0              \n",
            "deeplearner09/airbnb-listings                                Airbnb Listings Real Estate Data .                639KB  2023-10-07 10:05:20            409         24  1.0              \n",
            "iamsouravbanerjee/heart-attack-prediction-dataset            Heart Attack Risk Prediction Dataset              519KB  2023-09-27 07:07:50           1878         47  1.0              \n",
            "jamiewelsh2/nba-player-salaries-2022-23-season               NBA Player Salaries (2022-23 Season)               73KB  2023-10-07 15:11:33            411         24  1.0              \n",
            "carlmcbrideellis/zzzs-lightweight-training-dataset-target    Zzzs: Lightweight training dataset + target       185MB  2023-09-20 19:52:40            923         85  1.0              \n",
            "bhaveshmisra/heart-disease-indicators                        Heart_Disease_Indicators                            2MB  2023-10-06 18:08:16            627         25  0.9411765        \n",
            "jamiewelsh2/nba-per-game-player-statistics-2022-2023-season  NBA Per Game and Advanced Stats (2022-23 Season)   79KB  2023-10-08 15:58:30            407         27  1.0              \n",
            "peachji/credit-card-dataset                                  Credit card dataset                                30MB  2023-09-30 22:00:58            968         30  0.9411765        \n",
            "colewelkins/cardiovascular-disease                           Cardiovascular Disease                              1MB  2023-09-17 22:55:47            647         23  1.0              \n",
            "utkarshtomar736/odi-mens-cricket-match-data-2002-2023        ODI Men's Cricket Match Data (2002-2023)            7MB  2023-09-25 15:31:05            741         34  1.0              \n",
            "asaniczka/tmdb-movies-dataset-2023-930k-movies               Full TMDB Movies Dataset 2023 (930K Movies)       170MB  2023-10-06 04:12:20            562         26  1.0              \n",
            "emilrueh/laptops-and-notebooks-from-2020-2023                Laptops and Notebooks from 2020-2023               79KB  2023-09-29 15:14:05           1414         38  1.0              \n"
          ]
        }
      ]
    },
    {
      "cell_type": "code",
      "execution_count": 6,
      "metadata": {
        "colab": {
          "base_uri": "https://localhost:8080/"
        },
        "id": "wJF6ugBY0hdr",
        "outputId": "1b9365a0-23a2-475d-e598-00a6072384b6"
      },
      "outputs": [
        {
          "output_type": "stream",
          "name": "stdout",
          "text": [
            "Downloading spotify-million-song-dataset.zip to /content\n",
            " 87% 18.0M/20.7M [00:01<00:00, 21.9MB/s]\n",
            "100% 20.7M/20.7M [00:01<00:00, 16.7MB/s]\n",
            "kaggle.json  \u001b[0m\u001b[01;34msample_data\u001b[0m/  spotify-million-song-dataset.zip\n"
          ]
        }
      ],
      "source": [
        "!kaggle datasets download -d notshrirang/spotify-million-song-dataset\n",
        "\n",
        "%ls"
      ]
    },
    {
      "cell_type": "code",
      "source": [
        "# Descomprimimos los datos y los dejamos listos para trabajar\n",
        "!unzip -o -q spotify-million-song-dataset.zip -d my_dataset"
      ],
      "metadata": {
        "id": "Dk2-AdfH1I3o"
      },
      "execution_count": 7,
      "outputs": []
    },
    {
      "cell_type": "code",
      "source": [
        "%ls my_dataset/"
      ],
      "metadata": {
        "colab": {
          "base_uri": "https://localhost:8080/"
        },
        "id": "xtOHIPM71Qj4",
        "outputId": "3ec35c33-fa79-4318-dbdd-9bb5d3a7fa96"
      },
      "execution_count": 8,
      "outputs": [
        {
          "output_type": "stream",
          "name": "stdout",
          "text": [
            "spotify_millsongdata.csv\n"
          ]
        }
      ]
    },
    {
      "cell_type": "code",
      "source": [
        "import pandas as pd\n",
        "import numpy as np"
      ],
      "metadata": {
        "id": "bgFx9WWp1SSI"
      },
      "execution_count": 9,
      "outputs": []
    },
    {
      "cell_type": "code",
      "source": [
        "df = pd.read_csv(\"/content/my_dataset/spotify_millsongdata.csv\")\n",
        "\n",
        "df.sample(5)"
      ],
      "metadata": {
        "colab": {
          "base_uri": "https://localhost:8080/",
          "height": 206
        },
        "id": "ZzgXin4a1WLI",
        "outputId": "e8aec961-bfac-4f74-f20e-7d8289add37b"
      },
      "execution_count": 14,
      "outputs": [
        {
          "output_type": "execute_result",
          "data": {
            "text/plain": [
              "                artist               song  \\\n",
              "41113        Lady Gaga         Nature Boy   \n",
              "13859       Neil Young    Evening Coconut   \n",
              "6615   George Harrison        Gone Troppo   \n",
              "4359          Don Moen  As We Worship You   \n",
              "42055         Lou Reed           Families   \n",
              "\n",
              "                                               link  \\\n",
              "41113         /l/lady+gaga/nature+boy_21087939.html   \n",
              "13859   /n/neil+young/evening+coconut_20099244.html   \n",
              "6615   /g/george+harrison/gone+troppo_20059111.html   \n",
              "4359    /d/don+moen/as+we+worship+you_20733060.html   \n",
              "42055            /l/lou+reed/families_20085293.html   \n",
              "\n",
              "                                                    text  \n",
              "41113  There was a boy...  \\r\\nA very strange enchant...  \n",
              "13859  The Statue of Liberty  \\r\\nIs breathing in the...  \n",
              "6615   There he, sitting in the moonlight  \\r\\nNot fo...  \n",
              "4359   As we worship You, let all the world come and ...  \n",
              "42055  (how's the family)  \\r\\n(how's the family)  \\r...  "
            ],
            "text/html": [
              "\n",
              "  <div id=\"df-4856eefa-7c40-4054-947c-e01f57cc0dd9\" class=\"colab-df-container\">\n",
              "    <div>\n",
              "<style scoped>\n",
              "    .dataframe tbody tr th:only-of-type {\n",
              "        vertical-align: middle;\n",
              "    }\n",
              "\n",
              "    .dataframe tbody tr th {\n",
              "        vertical-align: top;\n",
              "    }\n",
              "\n",
              "    .dataframe thead th {\n",
              "        text-align: right;\n",
              "    }\n",
              "</style>\n",
              "<table border=\"1\" class=\"dataframe\">\n",
              "  <thead>\n",
              "    <tr style=\"text-align: right;\">\n",
              "      <th></th>\n",
              "      <th>artist</th>\n",
              "      <th>song</th>\n",
              "      <th>link</th>\n",
              "      <th>text</th>\n",
              "    </tr>\n",
              "  </thead>\n",
              "  <tbody>\n",
              "    <tr>\n",
              "      <th>41113</th>\n",
              "      <td>Lady Gaga</td>\n",
              "      <td>Nature Boy</td>\n",
              "      <td>/l/lady+gaga/nature+boy_21087939.html</td>\n",
              "      <td>There was a boy...  \\r\\nA very strange enchant...</td>\n",
              "    </tr>\n",
              "    <tr>\n",
              "      <th>13859</th>\n",
              "      <td>Neil Young</td>\n",
              "      <td>Evening Coconut</td>\n",
              "      <td>/n/neil+young/evening+coconut_20099244.html</td>\n",
              "      <td>The Statue of Liberty  \\r\\nIs breathing in the...</td>\n",
              "    </tr>\n",
              "    <tr>\n",
              "      <th>6615</th>\n",
              "      <td>George Harrison</td>\n",
              "      <td>Gone Troppo</td>\n",
              "      <td>/g/george+harrison/gone+troppo_20059111.html</td>\n",
              "      <td>There he, sitting in the moonlight  \\r\\nNot fo...</td>\n",
              "    </tr>\n",
              "    <tr>\n",
              "      <th>4359</th>\n",
              "      <td>Don Moen</td>\n",
              "      <td>As We Worship You</td>\n",
              "      <td>/d/don+moen/as+we+worship+you_20733060.html</td>\n",
              "      <td>As we worship You, let all the world come and ...</td>\n",
              "    </tr>\n",
              "    <tr>\n",
              "      <th>42055</th>\n",
              "      <td>Lou Reed</td>\n",
              "      <td>Families</td>\n",
              "      <td>/l/lou+reed/families_20085293.html</td>\n",
              "      <td>(how's the family)  \\r\\n(how's the family)  \\r...</td>\n",
              "    </tr>\n",
              "  </tbody>\n",
              "</table>\n",
              "</div>\n",
              "    <div class=\"colab-df-buttons\">\n",
              "\n",
              "  <div class=\"colab-df-container\">\n",
              "    <button class=\"colab-df-convert\" onclick=\"convertToInteractive('df-4856eefa-7c40-4054-947c-e01f57cc0dd9')\"\n",
              "            title=\"Convert this dataframe to an interactive table.\"\n",
              "            style=\"display:none;\">\n",
              "\n",
              "  <svg xmlns=\"http://www.w3.org/2000/svg\" height=\"24px\" viewBox=\"0 -960 960 960\">\n",
              "    <path d=\"M120-120v-720h720v720H120Zm60-500h600v-160H180v160Zm220 220h160v-160H400v160Zm0 220h160v-160H400v160ZM180-400h160v-160H180v160Zm440 0h160v-160H620v160ZM180-180h160v-160H180v160Zm440 0h160v-160H620v160Z\"/>\n",
              "  </svg>\n",
              "    </button>\n",
              "\n",
              "  <style>\n",
              "    .colab-df-container {\n",
              "      display:flex;\n",
              "      gap: 12px;\n",
              "    }\n",
              "\n",
              "    .colab-df-convert {\n",
              "      background-color: #E8F0FE;\n",
              "      border: none;\n",
              "      border-radius: 50%;\n",
              "      cursor: pointer;\n",
              "      display: none;\n",
              "      fill: #1967D2;\n",
              "      height: 32px;\n",
              "      padding: 0 0 0 0;\n",
              "      width: 32px;\n",
              "    }\n",
              "\n",
              "    .colab-df-convert:hover {\n",
              "      background-color: #E2EBFA;\n",
              "      box-shadow: 0px 1px 2px rgba(60, 64, 67, 0.3), 0px 1px 3px 1px rgba(60, 64, 67, 0.15);\n",
              "      fill: #174EA6;\n",
              "    }\n",
              "\n",
              "    .colab-df-buttons div {\n",
              "      margin-bottom: 4px;\n",
              "    }\n",
              "\n",
              "    [theme=dark] .colab-df-convert {\n",
              "      background-color: #3B4455;\n",
              "      fill: #D2E3FC;\n",
              "    }\n",
              "\n",
              "    [theme=dark] .colab-df-convert:hover {\n",
              "      background-color: #434B5C;\n",
              "      box-shadow: 0px 1px 3px 1px rgba(0, 0, 0, 0.15);\n",
              "      filter: drop-shadow(0px 1px 2px rgba(0, 0, 0, 0.3));\n",
              "      fill: #FFFFFF;\n",
              "    }\n",
              "  </style>\n",
              "\n",
              "    <script>\n",
              "      const buttonEl =\n",
              "        document.querySelector('#df-4856eefa-7c40-4054-947c-e01f57cc0dd9 button.colab-df-convert');\n",
              "      buttonEl.style.display =\n",
              "        google.colab.kernel.accessAllowed ? 'block' : 'none';\n",
              "\n",
              "      async function convertToInteractive(key) {\n",
              "        const element = document.querySelector('#df-4856eefa-7c40-4054-947c-e01f57cc0dd9');\n",
              "        const dataTable =\n",
              "          await google.colab.kernel.invokeFunction('convertToInteractive',\n",
              "                                                    [key], {});\n",
              "        if (!dataTable) return;\n",
              "\n",
              "        const docLinkHtml = 'Like what you see? Visit the ' +\n",
              "          '<a target=\"_blank\" href=https://colab.research.google.com/notebooks/data_table.ipynb>data table notebook</a>'\n",
              "          + ' to learn more about interactive tables.';\n",
              "        element.innerHTML = '';\n",
              "        dataTable['output_type'] = 'display_data';\n",
              "        await google.colab.output.renderOutput(dataTable, element);\n",
              "        const docLink = document.createElement('div');\n",
              "        docLink.innerHTML = docLinkHtml;\n",
              "        element.appendChild(docLink);\n",
              "      }\n",
              "    </script>\n",
              "  </div>\n",
              "\n",
              "\n",
              "<div id=\"df-5f243bdf-6ace-46f3-a539-f3a0213db914\">\n",
              "  <button class=\"colab-df-quickchart\" onclick=\"quickchart('df-5f243bdf-6ace-46f3-a539-f3a0213db914')\"\n",
              "            title=\"Suggest charts.\"\n",
              "            style=\"display:none;\">\n",
              "\n",
              "<svg xmlns=\"http://www.w3.org/2000/svg\" height=\"24px\"viewBox=\"0 0 24 24\"\n",
              "     width=\"24px\">\n",
              "    <g>\n",
              "        <path d=\"M19 3H5c-1.1 0-2 .9-2 2v14c0 1.1.9 2 2 2h14c1.1 0 2-.9 2-2V5c0-1.1-.9-2-2-2zM9 17H7v-7h2v7zm4 0h-2V7h2v10zm4 0h-2v-4h2v4z\"/>\n",
              "    </g>\n",
              "</svg>\n",
              "  </button>\n",
              "\n",
              "<style>\n",
              "  .colab-df-quickchart {\n",
              "      --bg-color: #E8F0FE;\n",
              "      --fill-color: #1967D2;\n",
              "      --hover-bg-color: #E2EBFA;\n",
              "      --hover-fill-color: #174EA6;\n",
              "      --disabled-fill-color: #AAA;\n",
              "      --disabled-bg-color: #DDD;\n",
              "  }\n",
              "\n",
              "  [theme=dark] .colab-df-quickchart {\n",
              "      --bg-color: #3B4455;\n",
              "      --fill-color: #D2E3FC;\n",
              "      --hover-bg-color: #434B5C;\n",
              "      --hover-fill-color: #FFFFFF;\n",
              "      --disabled-bg-color: #3B4455;\n",
              "      --disabled-fill-color: #666;\n",
              "  }\n",
              "\n",
              "  .colab-df-quickchart {\n",
              "    background-color: var(--bg-color);\n",
              "    border: none;\n",
              "    border-radius: 50%;\n",
              "    cursor: pointer;\n",
              "    display: none;\n",
              "    fill: var(--fill-color);\n",
              "    height: 32px;\n",
              "    padding: 0;\n",
              "    width: 32px;\n",
              "  }\n",
              "\n",
              "  .colab-df-quickchart:hover {\n",
              "    background-color: var(--hover-bg-color);\n",
              "    box-shadow: 0 1px 2px rgba(60, 64, 67, 0.3), 0 1px 3px 1px rgba(60, 64, 67, 0.15);\n",
              "    fill: var(--button-hover-fill-color);\n",
              "  }\n",
              "\n",
              "  .colab-df-quickchart-complete:disabled,\n",
              "  .colab-df-quickchart-complete:disabled:hover {\n",
              "    background-color: var(--disabled-bg-color);\n",
              "    fill: var(--disabled-fill-color);\n",
              "    box-shadow: none;\n",
              "  }\n",
              "\n",
              "  .colab-df-spinner {\n",
              "    border: 2px solid var(--fill-color);\n",
              "    border-color: transparent;\n",
              "    border-bottom-color: var(--fill-color);\n",
              "    animation:\n",
              "      spin 1s steps(1) infinite;\n",
              "  }\n",
              "\n",
              "  @keyframes spin {\n",
              "    0% {\n",
              "      border-color: transparent;\n",
              "      border-bottom-color: var(--fill-color);\n",
              "      border-left-color: var(--fill-color);\n",
              "    }\n",
              "    20% {\n",
              "      border-color: transparent;\n",
              "      border-left-color: var(--fill-color);\n",
              "      border-top-color: var(--fill-color);\n",
              "    }\n",
              "    30% {\n",
              "      border-color: transparent;\n",
              "      border-left-color: var(--fill-color);\n",
              "      border-top-color: var(--fill-color);\n",
              "      border-right-color: var(--fill-color);\n",
              "    }\n",
              "    40% {\n",
              "      border-color: transparent;\n",
              "      border-right-color: var(--fill-color);\n",
              "      border-top-color: var(--fill-color);\n",
              "    }\n",
              "    60% {\n",
              "      border-color: transparent;\n",
              "      border-right-color: var(--fill-color);\n",
              "    }\n",
              "    80% {\n",
              "      border-color: transparent;\n",
              "      border-right-color: var(--fill-color);\n",
              "      border-bottom-color: var(--fill-color);\n",
              "    }\n",
              "    90% {\n",
              "      border-color: transparent;\n",
              "      border-bottom-color: var(--fill-color);\n",
              "    }\n",
              "  }\n",
              "</style>\n",
              "\n",
              "  <script>\n",
              "    async function quickchart(key) {\n",
              "      const quickchartButtonEl =\n",
              "        document.querySelector('#' + key + ' button');\n",
              "      quickchartButtonEl.disabled = true;  // To prevent multiple clicks.\n",
              "      quickchartButtonEl.classList.add('colab-df-spinner');\n",
              "      try {\n",
              "        const charts = await google.colab.kernel.invokeFunction(\n",
              "            'suggestCharts', [key], {});\n",
              "      } catch (error) {\n",
              "        console.error('Error during call to suggestCharts:', error);\n",
              "      }\n",
              "      quickchartButtonEl.classList.remove('colab-df-spinner');\n",
              "      quickchartButtonEl.classList.add('colab-df-quickchart-complete');\n",
              "    }\n",
              "    (() => {\n",
              "      let quickchartButtonEl =\n",
              "        document.querySelector('#df-5f243bdf-6ace-46f3-a539-f3a0213db914 button');\n",
              "      quickchartButtonEl.style.display =\n",
              "        google.colab.kernel.accessAllowed ? 'block' : 'none';\n",
              "    })();\n",
              "  </script>\n",
              "</div>\n",
              "    </div>\n",
              "  </div>\n"
            ]
          },
          "metadata": {},
          "execution_count": 14
        }
      ]
    },
    {
      "cell_type": "markdown",
      "source": [
        "Aplicar clustering"
      ],
      "metadata": {
        "id": "iG6viiEm1kl4"
      }
    },
    {
      "cell_type": "code",
      "source": [],
      "metadata": {
        "id": "0muReGqd2AJI"
      },
      "execution_count": null,
      "outputs": []
    }
  ]
}